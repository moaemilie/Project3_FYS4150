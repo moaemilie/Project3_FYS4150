{
 "cells": [
  {
   "cell_type": "markdown",
   "id": "0c8233d7",
   "metadata": {},
   "source": [
    "# Project 3"
   ]
  },
  {
   "cell_type": "markdown",
   "id": "4349616a",
   "metadata": {},
   "source": [
    "### Task 8 "
   ]
  },
  {
   "cell_type": "code",
   "execution_count": null,
   "id": "1d079e14",
   "metadata": {},
   "outputs": [],
   "source": [
    "import pyarma as pa\n",
    "import sys\n",
    "import numpy as np\n",
    "\n",
    "part1_z = pa.mat() #Create pa.mat object (just as arma::mat in C++)\n",
    "part1_z.load(\"Particle1_z\") #Load the content of the matrix you saved into your Python program.\n",
    "part2_z = pa.mat() #Create pa.mat object (just as arma::mat in C++)\n",
    "part2_z.load(\"Particle2_z\") #Load the content of the matrix you saved into your Python program.\n",
    "\n",
    "\n",
    "numpy.set_printoptions(threshold=sys.maxsize)\n"
   ]
  },
  {
   "cell_type": "code",
   "execution_count": null,
   "id": "24984aa8",
   "metadata": {},
   "outputs": [],
   "source": [
    "import matplotlib.pyplot as plt\n",
    "plt.plot(np.array(part1_z))"
   ]
  },
  {
   "cell_type": "code",
   "execution_count": null,
   "id": "fc728b70",
   "metadata": {},
   "outputs": [],
   "source": [
    "import matplotlib.pyplot as plt\n",
    "  \n",
    "x = []\n",
    "y = []\n",
    "for line in open('Task5_output.txt', 'r'):\n",
    "    lines = [i for i in line.split()]\n",
    "    x.append(float(lines[0]))\n",
    "    y.append(float(lines[1]))\n",
    "      \n",
    "fig = plt.figure()\n",
    "plt.title('Number of Jacobi rotations for tridiagonal matrix', fontsize=15)\n",
    "plt.xlabel('Matrix size', fontsize=15)\n",
    "plt.ylabel('Iterations', fontsize=15)\n",
    "plt.plot(x, y)\n",
    "  \n",
    "plt.show()"
   ]
  }
 ],
 "metadata": {
  "kernelspec": {
   "display_name": "Python 3 (ipykernel)",
   "language": "python",
   "name": "python3"
  },
  "language_info": {
   "codemirror_mode": {
    "name": "ipython",
    "version": 3
   },
   "file_extension": ".py",
   "mimetype": "text/x-python",
   "name": "python",
   "nbconvert_exporter": "python",
   "pygments_lexer": "ipython3",
   "version": "3.9.12"
  }
 },
 "nbformat": 4,
 "nbformat_minor": 5
}
